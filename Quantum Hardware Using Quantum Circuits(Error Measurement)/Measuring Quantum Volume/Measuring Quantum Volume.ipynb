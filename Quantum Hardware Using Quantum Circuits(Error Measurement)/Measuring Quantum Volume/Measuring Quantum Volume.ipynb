{
 "cells": [
  {
   "cell_type": "code",
   "execution_count": 1,
   "id": "3394051f",
   "metadata": {},
   "outputs": [],
   "source": [
    "import matplotlib.pyplot as plt\n",
    "from IPython.display import clear_output\n",
    "\n",
    "#Import Qiskit classes\n",
    "import qiskit\n",
    "from qiskit import assemble, transpile\n",
    "from qiskit.providers.aer.noise import NoiseModel\n",
    "from qiskit.providers.aer.noise.errors.standard_errors import depolarizing_error, thermal_relaxation_error\n",
    "\n",
    "#Import the qv function\n",
    "import qiskit.ignis.verification.quantum_volume as qv"
   ]
  },
  {
   "cell_type": "markdown",
   "id": "d9d5bd4f",
   "metadata": {},
   "source": [
    "**Step 1: Generate QV sequences**"
   ]
  },
  {
   "cell_type": "markdown",
   "id": "c3fe022a",
   "metadata": {},
   "source": [
    "In the following example we have 6 qubits Q0,Q1,Q3,Q5,Q7,Q10. We are going to look at subsets up to the full set (each volume circuit will be depth equal to the number of qubits in the subset)."
   ]
  },
  {
   "cell_type": "code",
   "execution_count": 9,
   "id": "4024f016",
   "metadata": {},
   "outputs": [],
   "source": [
    "# qubit_lists: list of list of qubit subsets to generate QV circuits\n",
    "qubit_lists = [[0,1,3],[0,1,3,5],[0,1,3,5,7],[0,1,3,5,7,10]]\n",
    "# ntrials: Number of random circuits to create for each subset\n",
    "ntrials = 100"
   ]
  },
  {
   "cell_type": "markdown",
   "id": "0fcf1470",
   "metadata": {},
   "source": [
    "We generate the quantum volume sequences. We start with a small example (so it doesn't take too long to run)."
   ]
  },
  {
   "cell_type": "code",
   "execution_count": 10,
   "id": "b361feb6",
   "metadata": {},
   "outputs": [],
   "source": [
    "import warnings\n",
    "warnings.filterwarnings('ignore')\n",
    "qv_circs, qv_circs_nomeas = qv.qv_circuits(qubit_lists, ntrials)"
   ]
  },
  {
   "cell_type": "markdown",
   "id": "3e46c317",
   "metadata": {},
   "source": [
    "As an example, we print the circuit corresponding to the first QV sequence. Note that the ideal circuits are run on the first n qubits (where n is the number of qubits in the subset)."
   ]
  },
  {
   "cell_type": "code",
   "execution_count": 11,
   "id": "496d69fa",
   "metadata": {},
   "outputs": [],
   "source": [
    "# pass the first trial of the nomeas through the transpiler to illustrate the circuit\n",
    "qv_circs_nomeas[0] = qiskit.compiler.transpile(qv_circs_nomeas[0], basis_gates=['u1','u2','u3','cx'])"
   ]
  },
  {
   "cell_type": "code",
   "execution_count": 12,
   "id": "2655aee8",
   "metadata": {},
   "outputs": [
    {
     "data": {
      "text/html": [
       "<pre style=\"word-wrap: normal;white-space: pre;background: #fff0;line-height: 1.1;font-family: &quot;Courier New&quot;,Courier,monospace\">global phase: 2.7077\n",
       "     ┌────────────────────────────┐┌───┐┌────────────────────────────┐┌───┐┌───────────────────────────┐┌───┐┌────────────────────────────┐┌───┐┌────────────────────────────┐┌───┐┌───────────────────────────┐┌───┐┌───────────────────────────┐        ┌──────────────────────┐           ┌─────────────────────┐        ┌────────────────────────────┐\n",
       "q_0: ┤ U3(0.46782,-1.0711,1.4297) ├┤ X ├┤ U3(1.0507,0.52698,0.70689) ├┤ X ├┤ U3(2.0899,2.6136,-2.4368) ├┤ X ├┤ U3(3.0126,-2.9415,-1.2181) ├┤ X ├┤ U3(0.85534,0.11249,1.4002) ├┤ X ├┤ U3(2.0899,2.6136,-2.4368) ├┤ X ├┤ U3(1.2872,-1.8024,2.6426) ├──■─────┤ U3(0.74785,-π/2,π/2) ├─────■─────┤ U3(0.053995,-π,π/2) ├─────■──┤ U3(0.9218,2.9152,-0.53837) ├\n",
       "     └┬──────────────────────────┬┘└─┬─┘└──┬──────────────────────┬──┘└─┬─┘└──┬─────────────────────┬──┘└─┬─┘├────────────────────────────┤└─┬─┘└────────────────────────────┘└─┬─┘└───────────────────────────┘└─┬─┘└───────────────────────────┘┌─┴─┐┌──┴──────────────────────┴──┐┌─┴─┐┌──┴─────────────────────┴──┐┌─┴─┐├───────────────────────────┬┘\n",
       "q_1: ─┤ U3(2.5797,2.0183,1.1996) ├───■─────┤ U3(0.86036,-π/2,π/2) ├─────■─────┤ U3(0.023002,-π,π/2) ├─────■──┤ U3(0.79726,1.7384,-0.7923) ├──┼──────────────────────────────────┼─────────────────────────────────┼───────────────────────────────┤ X ├┤ U3(1.0723,0.54729,0.66524) ├┤ X ├┤ U3(2.0899,2.6136,-2.4368) ├┤ X ├┤ U3(1.1631,2.1494,0.12073) ├─\n",
       "     ┌┴──────────────────────────┴┐        └──────────────────────┘           └─────────────────────┘        └────────────────────────────┘  │     ┌──────────────────────┐     │     ┌──────────────────────┐    │  ┌───────────────────────────┐└───┘└────────────────────────────┘└───┘└───────────────────────────┘└───┘└───────────────────────────┘ \n",
       "q_2: ┤ U3(0.26782,-1.4674,1.5617) ├──────────────────────────────────────────────────────────────────────────────────────────────────────────■─────┤ U3(0.78136,-π/2,π/2) ├─────■─────┤ U3(0.0049638,-π,π/2) ├────■──┤ U3(1.2159,-1.9194,1.1457) ├────────────────────────────────────────────────────────────────────────────────────────────────────────\n",
       "     └────────────────────────────┘                                                                                                                └──────────────────────┘           └──────────────────────┘       └───────────────────────────┘                                                                                                        </pre>"
      ],
      "text/plain": [
       "global phase: 2.7077\n",
       "     ┌────────────────────────────┐┌───┐┌────────────────────────────┐┌───┐┌───────────────────────────┐┌───┐┌────────────────────────────┐┌───┐┌────────────────────────────┐┌───┐┌───────────────────────────┐┌───┐┌───────────────────────────┐        ┌──────────────────────┐           ┌─────────────────────┐        ┌────────────────────────────┐\n",
       "q_0: ┤ U3(0.46782,-1.0711,1.4297) ├┤ X ├┤ U3(1.0507,0.52698,0.70689) ├┤ X ├┤ U3(2.0899,2.6136,-2.4368) ├┤ X ├┤ U3(3.0126,-2.9415,-1.2181) ├┤ X ├┤ U3(0.85534,0.11249,1.4002) ├┤ X ├┤ U3(2.0899,2.6136,-2.4368) ├┤ X ├┤ U3(1.2872,-1.8024,2.6426) ├──■─────┤ U3(0.74785,-π/2,π/2) ├─────■─────┤ U3(0.053995,-π,π/2) ├─────■──┤ U3(0.9218,2.9152,-0.53837) ├\n",
       "     └┬──────────────────────────┬┘└─┬─┘└──┬──────────────────────┬──┘└─┬─┘└──┬─────────────────────┬──┘└─┬─┘├────────────────────────────┤└─┬─┘└────────────────────────────┘└─┬─┘└───────────────────────────┘└─┬─┘└───────────────────────────┘┌─┴─┐┌──┴──────────────────────┴──┐┌─┴─┐┌──┴─────────────────────┴──┐┌─┴─┐├───────────────────────────┬┘\n",
       "q_1: ─┤ U3(2.5797,2.0183,1.1996) ├───■─────┤ U3(0.86036,-π/2,π/2) ├─────■─────┤ U3(0.023002,-π,π/2) ├─────■──┤ U3(0.79726,1.7384,-0.7923) ├──┼──────────────────────────────────┼─────────────────────────────────┼───────────────────────────────┤ X ├┤ U3(1.0723,0.54729,0.66524) ├┤ X ├┤ U3(2.0899,2.6136,-2.4368) ├┤ X ├┤ U3(1.1631,2.1494,0.12073) ├─\n",
       "     ┌┴──────────────────────────┴┐        └──────────────────────┘           └─────────────────────┘        └────────────────────────────┘  │     ┌──────────────────────┐     │     ┌──────────────────────┐    │  ┌───────────────────────────┐└───┘└────────────────────────────┘└───┘└───────────────────────────┘└───┘└───────────────────────────┘ \n",
       "q_2: ┤ U3(0.26782,-1.4674,1.5617) ├──────────────────────────────────────────────────────────────────────────────────────────────────────────■─────┤ U3(0.78136,-π/2,π/2) ├─────■─────┤ U3(0.0049638,-π,π/2) ├────■──┤ U3(1.2159,-1.9194,1.1457) ├────────────────────────────────────────────────────────────────────────────────────────────────────────\n",
       "     └────────────────────────────┘                                                                                                                └──────────────────────┘           └──────────────────────┘       └───────────────────────────┘                                                                                                        "
      ]
     },
     "execution_count": 12,
     "metadata": {},
     "output_type": "execute_result"
    }
   ],
   "source": [
    "qv_circs_nomeas[0][0].draw(fold=-1)"
   ]
  },
  {
   "cell_type": "markdown",
   "id": "52262b8e",
   "metadata": {},
   "source": [
    "**Step 2: Simulate the ideal QV circuits**"
   ]
  },
  {
   "cell_type": "markdown",
   "id": "5d5235d8",
   "metadata": {},
   "source": [
    "The quantum volume method requires that we know the ideal output for each circuit, so we use the Aer simulator to get the ideal result."
   ]
  },
  {
   "cell_type": "code",
   "execution_count": 13,
   "id": "6adf9fa1",
   "metadata": {},
   "outputs": [
    {
     "name": "stdout",
     "output_type": "stream",
     "text": [
      "Simulated trial 100/100\n"
     ]
    }
   ],
   "source": [
    "sv_sim = qiskit.Aer.get_backend('aer_simulator')\n",
    "ideal_results = []\n",
    "for trial in range(ntrials):\n",
    "    clear_output(wait=True)\n",
    "    for qc in qv_circs_nomeas[trial]:\n",
    "        qc.save_statevector()\n",
    "    result = qiskit.execute(qv_circs_nomeas[trial], backend=sv_sim).result()\n",
    "    ideal_results.append(result)\n",
    "    print(f'Simulated trial {trial+1}/{ntrials}')"
   ]
  },
  {
   "cell_type": "markdown",
   "id": "72fd246e",
   "metadata": {},
   "source": [
    "Next, we load the ideal results into a quantum volume fitter"
   ]
  },
  {
   "cell_type": "code",
   "execution_count": 14,
   "id": "43c21be7",
   "metadata": {},
   "outputs": [],
   "source": [
    "qv_fitter = qv.QVFitter(qubit_lists=qubit_lists)\n",
    "qv_fitter.add_statevectors(ideal_results)"
   ]
  },
  {
   "cell_type": "markdown",
   "id": "871172bd",
   "metadata": {},
   "source": [
    "**Step 3: Calculate the heavy outputs**"
   ]
  },
  {
   "cell_type": "markdown",
   "id": "bf1abe04",
   "metadata": {},
   "source": [
    "As an illustration, we print the heavy outputs from various depths and their probabilities (for trial 0):"
   ]
  },
  {
   "cell_type": "code",
   "execution_count": 15,
   "id": "6f45d248",
   "metadata": {},
   "outputs": [
    {
     "name": "stdout",
     "output_type": "stream",
     "text": [
      "qv_depth_3_trial_0: ['010', '011', '100', '110']\n",
      "qv_depth_4_trial_0: ['0000', '0001', '0011', '0111', '1000', '1010', '1011', '1111']\n",
      "qv_depth_5_trial_0: ['00010', '00011', '00100', '00101', '00110', '00111', '01011', '01100', '01101', '01110', '01111', '10000', '11001', '11011', '11110', '11111']\n",
      "qv_depth_6_trial_0: ['000000', '000011', '000100', '000101', '000110', '000111', '001000', '001001', '001010', '001100', '001110', '010001', '010010', '010110', '010111', '011000', '011001', '011010', '011101', '011110', '100000', '100010', '100011', '100110', '101100', '110010', '110100', '110101', '110111', '111100', '111101', '111111']\n"
     ]
    }
   ],
   "source": [
    "for qubit_list in qubit_lists:\n",
    "    l = len(qubit_list)\n",
    "    print ('qv_depth_'+str(l)+'_trial_0:', qv_fitter._heavy_outputs['qv_depth_'+str(l)+'_trial_0'])"
   ]
  },
  {
   "cell_type": "code",
   "execution_count": 16,
   "id": "300e2810",
   "metadata": {},
   "outputs": [
    {
     "name": "stdout",
     "output_type": "stream",
     "text": [
      "qv_depth_3_trial_0: 0.8711716544781744\n",
      "qv_depth_4_trial_0: 0.829774868953036\n",
      "qv_depth_5_trial_0: 0.8543419735543087\n",
      "qv_depth_6_trial_0: 0.8234087763709976\n"
     ]
    }
   ],
   "source": [
    "for qubit_list in qubit_lists:\n",
    "    l = len(qubit_list)\n",
    "    print ('qv_depth_'+str(l)+'_trial_0:', qv_fitter._heavy_output_prob_ideal['qv_depth_'+str(l)+'_trial_0'])"
   ]
  },
  {
   "cell_type": "markdown",
   "id": "8027231d",
   "metadata": {},
   "source": [
    "**Step 4: Define the noise model**"
   ]
  },
  {
   "cell_type": "markdown",
   "id": "49dd1865",
   "metadata": {},
   "source": [
    "We define a noise model for the simulator. To simulate decay, we add depolarizing error probabilities to the CNOT and U gates."
   ]
  },
  {
   "cell_type": "code",
   "execution_count": 17,
   "id": "99f07c3a",
   "metadata": {},
   "outputs": [],
   "source": [
    "noise_model = NoiseModel()\n",
    "p1Q = 0.002\n",
    "p2Q = 0.02\n",
    "noise_model.add_all_qubit_quantum_error(depolarizing_error(p1Q, 1), 'u2')\n",
    "noise_model.add_all_qubit_quantum_error(depolarizing_error(2*p1Q, 1), 'u3')\n",
    "noise_model.add_all_qubit_quantum_error(depolarizing_error(p2Q, 2), 'cx')"
   ]
  },
  {
   "cell_type": "markdown",
   "id": "7f0b93e3",
   "metadata": {},
   "source": [
    "We can execute the QV sequences either using Qiskit Aer Simulator (with some noise model) or using IBMQ provider, and obtain a list of exp_results."
   ]
  },
  {
   "cell_type": "code",
   "execution_count": 18,
   "id": "58a67b01",
   "metadata": {},
   "outputs": [
    {
     "name": "stdout",
     "output_type": "stream",
     "text": [
      "Completed trial 100/100\n"
     ]
    }
   ],
   "source": [
    "aer_sim = qiskit.Aer.get_backend('aer_simulator')\n",
    "basis_gates = ['u1','u2','u3','cx'] # use U,CX for now\n",
    "shots = 1024\n",
    "exp_results = []\n",
    "for trial in range(ntrials):\n",
    "    clear_output(wait=True)\n",
    "    t_qcs = transpile(qv_circs[trial], basis_gates=basis_gates, optimization_level=3)\n",
    "    qobj = assemble(t_qcs)\n",
    "    result = aer_sim.run(qobj, noise_model=noise_model, max_parallel_experiments=0).result()\n",
    "    exp_results.append(result)\n",
    "    print(f'Completed trial {trial+1}/{ntrials}')"
   ]
  },
  {
   "cell_type": "markdown",
   "id": "cf58d99a",
   "metadata": {},
   "source": [
    "**Step 5: Calculate the average gate fidelity**"
   ]
  },
  {
   "cell_type": "markdown",
   "id": "bbf45e67",
   "metadata": {},
   "source": [
    "As an illustration, we print the heavy output counts from various depths (for trial 0):"
   ]
  },
  {
   "cell_type": "code",
   "execution_count": 19,
   "id": "d89f06a4",
   "metadata": {},
   "outputs": [
    {
     "name": "stdout",
     "output_type": "stream",
     "text": [
      "qv_depth_3_trial_0: 832\n",
      "qv_depth_4_trial_0: 686\n",
      "qv_depth_5_trial_0: 767\n",
      "qv_depth_6_trial_0: 671\n"
     ]
    }
   ],
   "source": [
    "qv_fitter.add_data(exp_results)\n",
    "for qubit_list in qubit_lists:\n",
    "    l = len(qubit_list)\n",
    "    print ('qv_depth_'+str(l)+'_trial_0:', qv_fitter._heavy_output_counts['qv_depth_'+str(l)+'_trial_0'])"
   ]
  },
  {
   "cell_type": "markdown",
   "id": "7fc02d53",
   "metadata": {},
   "source": [
    "**Step 6: Calculate the achievable depth**"
   ]
  },
  {
   "attachments": {
    "1.png": {
     "image/png": "[encoded data removed]"
    }
   },
   "cell_type": "markdown",
   "id": "72b6cc11",
   "metadata": {},
   "source": [
    "![1.png](attachment:1.png)"
   ]
  },
  {
   "cell_type": "code",
   "execution_count": 20,
   "id": "6a0bd834",
   "metadata": {},
   "outputs": [
    {
     "data": {
      "image/png": "[encoded data removed]",
      "text/plain": [
       "<Figure size 720x432 with 1 Axes>"
      ]
     },
     "metadata": {
      "needs_background": "light"
     },
     "output_type": "display_data"
    }
   ],
   "source": [
    "plt.figure(figsize=(10, 6))\n",
    "ax = plt.gca()\n",
    "\n",
    "# Plot the essence by calling plot_rb_data\n",
    "qv_fitter.plot_qv_data(ax=ax, show_plt=False)\n",
    "\n",
    "# Add title and label\n",
    "ax.set_title('Quantum Volume for up to %d Qubits \\n and %d Trials'%(len(qubit_lists[-1]), ntrials), fontsize=18)\n",
    "\n",
    "plt.show()"
   ]
  },
  {
   "cell_type": "markdown",
   "id": "3adfdb2d",
   "metadata": {},
   "source": [
    "**Step 7: Calculate the Quantum Volume**"
   ]
  },
  {
   "cell_type": "markdown",
   "id": "d091842b",
   "metadata": {},
   "source": [
    "We list the statistics for each depth. For each depth we list if the depth was successful or not and with what confidence interval. For a depth to be successful the confidence interval must be > 97.5%."
   ]
  },
  {
   "cell_type": "code",
   "execution_count": 21,
   "id": "0b28f2c2",
   "metadata": {},
   "outputs": [
    {
     "name": "stdout",
     "output_type": "stream",
     "text": [
      "Width/depth 3 greater than 2/3 (0.805469) with confidence 0.999773 (successful). Quantum volume 8\n",
      "Width/depth 4 greater than 2/3 (0.732861) with confidence 0.932679 (unsuccessful).\n",
      "Width/depth 5 greater than 2/3 (0.726543) with confidence 0.910416 (unsuccessful).\n",
      "Width/depth 6 less than 2/3 (unsuccessful).\n"
     ]
    }
   ],
   "source": [
    "qv_success_list = qv_fitter.qv_success()\n",
    "qv_list = qv_fitter.ydata\n",
    "QV = 1\n",
    "for qidx, qubit_list in enumerate(qubit_lists):\n",
    "    if qv_list[0][qidx]>2/3:\n",
    "        if qv_success_list[qidx][0]:\n",
    "            print(\"Width/depth %d greater than 2/3 (%f) with confidence %f (successful). Quantum volume %d\"%\n",
    "                  (len(qubit_list),qv_list[0][qidx],qv_success_list[qidx][1],qv_fitter.quantum_volume()[qidx]))\n",
    "            QV = qv_fitter.quantum_volume()[qidx]\n",
    "        else:\n",
    "            print(\"Width/depth %d greater than 2/3 (%f) with confidence %f (unsuccessful).\"%\n",
    "                  (len(qubit_list),qv_list[0][qidx],qv_success_list[qidx][1]))\n",
    "    else:\n",
    "        print(\"Width/depth %d less than 2/3 (unsuccessful).\"%len(qubit_list))"
   ]
  },
  {
   "cell_type": "code",
   "execution_count": 22,
   "id": "5580b64a",
   "metadata": {},
   "outputs": [
    {
     "name": "stdout",
     "output_type": "stream",
     "text": [
      "The Quantum Volume is: 8\n"
     ]
    }
   ],
   "source": [
    "print (\"The Quantum Volume is:\", QV) "
   ]
  },
  {
   "cell_type": "code",
   "execution_count": null,
   "id": "56ab0921",
   "metadata": {},
   "outputs": [],
   "source": []
  }
 ],
 "metadata": {
  "kernelspec": {
   "display_name": "Python 3",
   "language": "python",
   "name": "python3"
  },
  "language_info": {
   "codemirror_mode": {
    "name": "ipython",
    "version": 3
   },
   "file_extension": ".py",
   "mimetype": "text/x-python",
   "name": "python",
   "nbconvert_exporter": "python",
   "pygments_lexer": "ipython3",
   "version": "3.8.8"
  }
 },
 "nbformat": 4,
 "nbformat_minor": 5
}
