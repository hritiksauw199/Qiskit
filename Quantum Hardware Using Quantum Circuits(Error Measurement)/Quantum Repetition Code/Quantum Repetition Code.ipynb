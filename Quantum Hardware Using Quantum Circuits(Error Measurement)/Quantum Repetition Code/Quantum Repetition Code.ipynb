{
 "cells": [
  {
   "cell_type": "code",
   "execution_count": 1,
   "id": "4c726fd2",
   "metadata": {},
   "outputs": [],
   "source": [
    "from qiskit.ignis.verification.topological_codes import RepetitionCode\n",
    "from qiskit.ignis.verification.topological_codes import lookuptable_decoding\n",
    "from qiskit.ignis.verification.topological_codes import GraphDecoder\n",
    "from qiskit.providers.aer.noise import NoiseModel\n",
    "from qiskit.providers.aer.noise.errors import pauli_error, depolarizing_error\n",
    "from qiskit import QuantumRegister, ClassicalRegister\n",
    "from qiskit import QuantumCircuit, Aer, transpile, assemble\n",
    "from qiskit.visualization import plot_histogram\n",
    "aer_sim = Aer.get_backend('aer_simulator')"
   ]
  },
  {
   "cell_type": "markdown",
   "id": "d23b780c",
   "metadata": {},
   "source": [
    "Let us start with the smallest non-trivial case: three repetitions and one syndrome measurement round. The circuits for the repetition code can then be created automatically from using the RepetitionCode object from Qiskit-Ignis."
   ]
  },
  {
   "cell_type": "code",
   "execution_count": 2,
   "id": "1d16db01",
   "metadata": {},
   "outputs": [],
   "source": [
    "n = 3\n",
    "T = 1\n",
    "code = RepetitionCode(n, T)"
   ]
  },
  {
   "cell_type": "markdown",
   "id": "beaca4ff",
   "metadata": {},
   "source": [
    "The RepetitionCode contains two quantum circuits that implement the code: One for each of the two possible logical bit values. Here are those for logical 0 and 1, respectively."
   ]
  },
  {
   "cell_type": "code",
   "execution_count": 3,
   "id": "b5406e6a",
   "metadata": {},
   "outputs": [
    {
     "data": {
      "text/html": [
       "<pre style=\"word-wrap: normal;white-space: pre;background: #fff0;line-height: 1.1;font-family: &quot;Courier New&quot;,Courier,monospace\">                    ┌───┐     ┌───┐        ┌─┐         \n",
       "      link_qubit_0: ┤ X ├─────┤ X ├────────┤M├─────────\n",
       "                    └─┬─┘┌───┐└─┬─┘┌───┐   └╥┘┌─┐      \n",
       "      link_qubit_1: ──┼──┤ X ├──┼──┤ X ├────╫─┤M├──────\n",
       "                      │  └─┬─┘  │  └─┬─┘┌─┐ ║ └╥┘      \n",
       "      code_qubit_0: ──■────┼────┼────┼──┤M├─╫──╫───────\n",
       "                           │    │    │  └╥┘ ║  ║ ┌─┐   \n",
       "      code_qubit_1: ───────■────■────┼───╫──╫──╫─┤M├───\n",
       "                                     │   ║  ║  ║ └╥┘┌─┐\n",
       "      code_qubit_2: ─────────────────■───╫──╫──╫──╫─┤M├\n",
       "                                         ║  ║  ║  ║ └╥┘\n",
       "round_0_link_bit: 2/═════════════════════╬══╩══╩══╬══╬═\n",
       "                                         ║  0  1  ║  ║ \n",
       "                                         ║        ║  ║ \n",
       "        code_bit: 3/═════════════════════╩════════╩══╩═\n",
       "                                         0        1  2 </pre>"
      ],
      "text/plain": [
       "                    ┌───┐     ┌───┐        ┌─┐         \n",
       "      link_qubit_0: ┤ X ├─────┤ X ├────────┤M├─────────\n",
       "                    └─┬─┘┌───┐└─┬─┘┌───┐   └╥┘┌─┐      \n",
       "      link_qubit_1: ──┼──┤ X ├──┼──┤ X ├────╫─┤M├──────\n",
       "                      │  └─┬─┘  │  └─┬─┘┌─┐ ║ └╥┘      \n",
       "      code_qubit_0: ──■────┼────┼────┼──┤M├─╫──╫───────\n",
       "                           │    │    │  └╥┘ ║  ║ ┌─┐   \n",
       "      code_qubit_1: ───────■────■────┼───╫──╫──╫─┤M├───\n",
       "                                     │   ║  ║  ║ └╥┘┌─┐\n",
       "      code_qubit_2: ─────────────────■───╫──╫──╫──╫─┤M├\n",
       "                                         ║  ║  ║  ║ └╥┘\n",
       "round_0_link_bit: 2/═════════════════════╬══╩══╩══╬══╬═\n",
       "                                         ║  0  1  ║  ║ \n",
       "                                         ║        ║  ║ \n",
       "        code_bit: 3/═════════════════════╩════════╩══╩═\n",
       "                                         0        1  2 "
      ]
     },
     "execution_count": 3,
     "metadata": {},
     "output_type": "execute_result"
    }
   ],
   "source": [
    "code.circuit['0'].draw()"
   ]
  },
  {
   "cell_type": "code",
   "execution_count": 4,
   "id": "22fd1a5f",
   "metadata": {},
   "outputs": [
    {
     "data": {
      "text/html": [
       "<pre style=\"word-wrap: normal;white-space: pre;background: #fff0;line-height: 1.1;font-family: &quot;Courier New&quot;,Courier,monospace\">                         ┌───┐     ┌───┐        ┌─┐         \n",
       "      link_qubit_0: ─────┤ X ├─────┤ X ├────────┤M├─────────\n",
       "                         └─┬─┘┌───┐└─┬─┘┌───┐   └╥┘┌─┐      \n",
       "      link_qubit_1: ───────┼──┤ X ├──┼──┤ X ├────╫─┤M├──────\n",
       "                    ┌───┐  │  └─┬─┘  │  └─┬─┘┌─┐ ║ └╥┘      \n",
       "      code_qubit_0: ┤ X ├──■────┼────┼────┼──┤M├─╫──╫───────\n",
       "                    ├───┤       │    │    │  └╥┘ ║  ║ ┌─┐   \n",
       "      code_qubit_1: ┤ X ├───────■────■────┼───╫──╫──╫─┤M├───\n",
       "                    ├───┤                 │   ║  ║  ║ └╥┘┌─┐\n",
       "      code_qubit_2: ┤ X ├─────────────────■───╫──╫──╫──╫─┤M├\n",
       "                    └───┘                     ║  ║  ║  ║ └╥┘\n",
       "round_0_link_bit: 2/══════════════════════════╬══╩══╩══╬══╬═\n",
       "                                              ║  0  1  ║  ║ \n",
       "                                              ║        ║  ║ \n",
       "        code_bit: 3/══════════════════════════╩════════╩══╩═\n",
       "                                              0        1  2 </pre>"
      ],
      "text/plain": [
       "                         ┌───┐     ┌───┐        ┌─┐         \n",
       "      link_qubit_0: ─────┤ X ├─────┤ X ├────────┤M├─────────\n",
       "                         └─┬─┘┌───┐└─┬─┘┌───┐   └╥┘┌─┐      \n",
       "      link_qubit_1: ───────┼──┤ X ├──┼──┤ X ├────╫─┤M├──────\n",
       "                    ┌───┐  │  └─┬─┘  │  └─┬─┘┌─┐ ║ └╥┘      \n",
       "      code_qubit_0: ┤ X ├──■────┼────┼────┼──┤M├─╫──╫───────\n",
       "                    ├───┤       │    │    │  └╥┘ ║  ║ ┌─┐   \n",
       "      code_qubit_1: ┤ X ├───────■────■────┼───╫──╫──╫─┤M├───\n",
       "                    ├───┤                 │   ║  ║  ║ └╥┘┌─┐\n",
       "      code_qubit_2: ┤ X ├─────────────────■───╫──╫──╫──╫─┤M├\n",
       "                    └───┘                     ║  ║  ║  ║ └╥┘\n",
       "round_0_link_bit: 2/══════════════════════════╬══╩══╩══╬══╬═\n",
       "                                              ║  0  1  ║  ║ \n",
       "                                              ║        ║  ║ \n",
       "        code_bit: 3/══════════════════════════╩════════╩══╩═\n",
       "                                              0        1  2 "
      ]
     },
     "execution_count": 4,
     "metadata": {},
     "output_type": "execute_result"
    }
   ],
   "source": [
    "code.circuit['1'].draw()"
   ]
  },
  {
   "cell_type": "markdown",
   "id": "70b59058",
   "metadata": {},
   "source": [
    "In these circuits, we have two types of physical qubits. There are the 'code qubits', which are the three physical qubits across which the logical state is encoded. There are also the 'link qubits', which serve as the auxiliary qubits for the syndrome measurements.\n",
    "\n",
    "Our single round of syndrome measurements in these circuits consist of just two syndrome measurements. One compares code qubits 0 and 1, and the other compares code qubits 1 and 2. One might expect that a further measurement, comparing code qubits 0 and 2, should be required to create a full set. However, these two are sufficient. This is because of the information on whether 0 and 2 have the same z basis state can be inferred from the same information about 0 and 1 with that for 1 and 2. **Indeed, for  \n",
    "n qubits, we can get the required information from just n-1 syndrome measurements of neighbouring pairs of qubits.**\n",
    "\n",
    "Running these circuits on a simulator without any noise leads to very simple results."
   ]
  },
  {
   "cell_type": "code",
   "execution_count": 5,
   "id": "e76a169a",
   "metadata": {},
   "outputs": [
    {
     "name": "stdout",
     "output_type": "stream",
     "text": [
      "Logical 0 : {'000 00': 1024} \n",
      "\n",
      "Logical 1 : {'111 00': 1024} \n",
      "\n"
     ]
    }
   ],
   "source": [
    "def get_raw_results(code,noise_model=None):\n",
    "    circuits = code.get_circuit_list()\n",
    "    raw_results = {}\n",
    "    for log in range(2):\n",
    "        qobj = assemble(circuits[log])\n",
    "        job = aer_sim.run(qobj, noise_model=noise_model)\n",
    "        raw_results[str(log)] = job.result().get_counts(str(log))\n",
    "    return raw_results\n",
    "\n",
    "raw_results = get_raw_results(code)\n",
    "for log in raw_results:\n",
    "    print('Logical', log, ':', raw_results[log], '\\n')"
   ]
  },
  {
   "cell_type": "markdown",
   "id": "82b0677e",
   "metadata": {},
   "source": [
    "Here we see that the output comes in two parts. The part on the right holds the outcomes of the two syndrome measurements. That on the left holds the outcomes of the three final measurements of the code qubits."
   ]
  },
  {
   "cell_type": "markdown",
   "id": "71e98c24",
   "metadata": {},
   "source": [
    "**For more measurement rounds, T=4 for example, we would have the results of more syndrome measurements on the right**"
   ]
  },
  {
   "cell_type": "code",
   "execution_count": 6,
   "id": "923b0a9b",
   "metadata": {},
   "outputs": [
    {
     "name": "stdout",
     "output_type": "stream",
     "text": [
      "Logical 0 : {'000 00 00 00 00': 1024} \n",
      "\n",
      "Logical 1 : {'111 00 00 00 00': 1024} \n",
      "\n"
     ]
    }
   ],
   "source": [
    "code = RepetitionCode(n,4)\n",
    "\n",
    "raw_results = get_raw_results(code)\n",
    "for log in raw_results:\n",
    "    print('Logical', log,':', raw_results[log],'\\n')"
   ]
  },
  {
   "cell_type": "markdown",
   "id": "78f9c271",
   "metadata": {},
   "source": [
    "**For more repetitions, n=5 for example, each set of measurements would be larger. The final measurement on the left would be of n qubits. The T syndrome measurements would each be of the n−1 possible neighbouring pairs.**"
   ]
  },
  {
   "cell_type": "code",
   "execution_count": 7,
   "id": "a1677c10",
   "metadata": {},
   "outputs": [
    {
     "name": "stdout",
     "output_type": "stream",
     "text": [
      "Logical 0 : {'00000 0000 0000 0000 0000': 1024} \n",
      "\n",
      "Logical 1 : {'11111 0000 0000 0000 0000': 1024} \n",
      "\n"
     ]
    }
   ],
   "source": [
    "code = RepetitionCode(5,4)\n",
    "\n",
    "raw_results = get_raw_results(code)\n",
    "for log in raw_results:\n",
    "    print('Logical', log,':', raw_results[log],'\\n')"
   ]
  },
  {
   "cell_type": "markdown",
   "id": "7c02dcb9",
   "metadata": {},
   "source": [
    "# Lookup Table Decoding"
   ]
  },
  {
   "cell_type": "markdown",
   "id": "972cc541",
   "metadata": {},
   "source": [
    "Now let's return to the n=3, T=1 example and look at a case with some noise."
   ]
  },
  {
   "cell_type": "code",
   "execution_count": 9,
   "id": "5149cfab",
   "metadata": {},
   "outputs": [],
   "source": [
    "def get_noise(p_meas,p_gate):\n",
    "    error_meas = pauli_error([('X',p_meas), ('I', 1 - p_meas)])\n",
    "    error_gate1 = depolarizing_error(p_gate, 1)\n",
    "    error_gate2 = error_gate1.tensor(error_gate1)\n",
    "\n",
    "    noise_model = NoiseModel()\n",
    "    noise_model.add_all_qubit_quantum_error(error_meas, \"measure\") # measurement error is applied to measurements\n",
    "    noise_model.add_all_qubit_quantum_error(error_gate1, [\"x\"]) # single qubit gate error is applied to x gates\n",
    "    noise_model.add_all_qubit_quantum_error(error_gate2, [\"cx\"]) # two qubit gate error is applied to cx gates\n",
    "        \n",
    "    return noise_model"
   ]
  },
  {
   "cell_type": "code",
   "execution_count": 10,
   "id": "9b34d3eb",
   "metadata": {},
   "outputs": [
    {
     "name": "stdout",
     "output_type": "stream",
     "text": [
      "Logical 0 : {'000 00': 637, '010 00': 53, '001 00': 54, '100 00': 47, '000 01': 77, '010 01': 21, '000 10': 76, '101 10': 1, '110 00': 5, '100 10': 8, '010 10': 7, '100 11': 3, '000 11': 5, '001 01': 4, '100 01': 4, '110 11': 1, '001 10': 6, '010 11': 3, '011 00': 5, '111 01': 1, '101 00': 4, '110 01': 1, '110 10': 1} \n",
      "\n",
      "Logical 1 : {'111 00': 603, '110 00': 52, '111 10': 63, '101 00': 57, '011 10': 25, '001 01': 5, '110 01': 16, '011 00': 42, '100 10': 1, '111 01': 69, '111 11': 8, '101 11': 19, '101 01': 25, '001 10': 2, '010 00': 4, '110 10': 6, '101 10': 3, '001 00': 7, '010 01': 2, '011 01': 6, '010 10': 1, '011 11': 1, '100 01': 3, '100 00': 3, '110 11': 1} \n",
      "\n"
     ]
    }
   ],
   "source": [
    "code = RepetitionCode(3,1)\n",
    "\n",
    "noise_model = get_noise(0.05,0.05)\n",
    "\n",
    "raw_results = get_raw_results(code,noise_model)\n",
    "for log in raw_results:\n",
    "    print('Logical', log,':', raw_results[log],'\\n')"
   ]
  },
  {
   "cell_type": "markdown",
   "id": "78e261f0",
   "metadata": {},
   "source": [
    "We can use tools in Qiskit to implement lookup table decoding for any code. For this we need two sets of results. One is the set of results that we actually want to decode, and for which we want to calculate the probability of incorrect decoding,  P. We will use the raw_results we already have for this.\n",
    "\n",
    "The other set of results is one to be used as the lookup table. This will need to be run for a large number of samples, to ensure that it gets good statistics for each possible outcome. We'll use shots=10000."
   ]
  },
  {
   "cell_type": "code",
   "execution_count": 11,
   "id": "861e4780",
   "metadata": {},
   "outputs": [],
   "source": [
    "circuits = code.get_circuit_list()\n",
    "table_results = {}\n",
    "for log in range(2):\n",
    "    qobj = assemble(circuits[log], shots=10000)\n",
    "    job = aer_sim.run(qobj, noise_model=noise_model)\n",
    "    table_results[str(log)] = job.result().get_counts(str(log))"
   ]
  },
  {
   "cell_type": "markdown",
   "id": "5a59c75a",
   "metadata": {},
   "source": [
    "With this data, which we call table_results, we can now use the lookuptable_decoding function from Qiskit. This takes each outcome from raw_results and decodes it with the information in table_results. Then it checks if the decoding was correct, and uses this information to calculate P."
   ]
  },
  {
   "cell_type": "code",
   "execution_count": 12,
   "id": "ab364294",
   "metadata": {},
   "outputs": [
    {
     "name": "stdout",
     "output_type": "stream",
     "text": [
      "P = {'0': 0.0185546875, '1': 0.02734375}\n"
     ]
    }
   ],
   "source": [
    "P = lookuptable_decoding(table_results,raw_results)\n",
    "print('P =',P)"
   ]
  },
  {
   "attachments": {
    "4.png": {
     "image/png": "[encoded data removed]"
    }
   },
   "cell_type": "markdown",
   "id": "01af9bb5",
   "metadata": {},
   "source": [
    "![4.png](attachment:4.png)"
   ]
  },
  {
   "cell_type": "markdown",
   "id": "f63fed12",
   "metadata": {},
   "source": [
    "# Graph Theoretic Decoding"
   ]
  },
  {
   "cell_type": "code",
   "execution_count": 13,
   "id": "6f16d12b",
   "metadata": {},
   "outputs": [
    {
     "name": "stdout",
     "output_type": "stream",
     "text": [
      "\n",
      "Logical 0:\n",
      "raw results        {'000 00 00': 526, '000 00 01': 58}\n",
      "processed results  {'0 0  00 00 00': 526, '0 0  01 01 00': 58}\n",
      "\n",
      "Logical 1:\n",
      "raw results        {'111 01 00': 62, '111 00 00': 462, '111 10 00': 51}\n",
      "processed results  {'1 1  00 01 01': 62, '1 1  00 00 00': 462, '1 1  00 10 10': 51}\n"
     ]
    }
   ],
   "source": [
    "code = RepetitionCode(3,2)\n",
    "\n",
    "raw_results = get_raw_results(code,noise_model)\n",
    "\n",
    "results = code.process_results( raw_results )\n",
    "\n",
    "for log in ['0','1']:\n",
    "    print('\\nLogical ' + log + ':')\n",
    "    print('raw results       ', {string:raw_results[log][string] for string in raw_results[log] if raw_results[log][string]>=50 })\n",
    "    print('processed results ', {string:results[log][string] for string in results[log] if results[log][string]>=50 })"
   ]
  },
  {
   "cell_type": "code",
   "execution_count": null,
   "id": "745ddd3b",
   "metadata": {},
   "outputs": [],
   "source": []
  }
 ],
 "metadata": {
  "kernelspec": {
   "display_name": "Python 3",
   "language": "python",
   "name": "python3"
  },
  "language_info": {
   "codemirror_mode": {
    "name": "ipython",
    "version": 3
   },
   "file_extension": ".py",
   "mimetype": "text/x-python",
   "name": "python",
   "nbconvert_exporter": "python",
   "pygments_lexer": "ipython3",
   "version": "3.8.8"
  }
 },
 "nbformat": 4,
 "nbformat_minor": 5
}
