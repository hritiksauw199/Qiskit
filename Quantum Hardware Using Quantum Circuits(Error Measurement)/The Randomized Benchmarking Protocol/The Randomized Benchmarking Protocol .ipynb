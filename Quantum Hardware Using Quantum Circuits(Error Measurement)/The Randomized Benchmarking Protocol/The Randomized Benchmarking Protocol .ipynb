{
 "cells": [
  {
   "cell_type": "code",
   "execution_count": 7,
   "id": "2998eca3",
   "metadata": {},
   "outputs": [],
   "source": [
    "# Import general libraries (needed for functions)\n",
    "import numpy as np\n",
    "import matplotlib.pyplot as plt\n",
    "from IPython import display\n",
    "\n",
    "# Import the RB Functions\n",
    "import qiskit.ignis.verification.randomized_benchmarking as rb\n",
    "\n",
    "# Import Qiskit classes \n",
    "import qiskit\n",
    "from qiskit import assemble, transpile\n",
    "from qiskit.providers.aer.noise import NoiseModel\n",
    "from qiskit.providers.aer.noise.errors.standard_errors import depolarizing_error, thermal_relaxation_error"
   ]
  },
  {
   "cell_type": "markdown",
   "id": "fdb09021",
   "metadata": {},
   "source": [
    "For example, we generate below several sequences of 2-qubit Clifford circuits."
   ]
  },
  {
   "cell_type": "markdown",
   "id": "0d4bb24e",
   "metadata": {},
   "source": [
    "**Step 1: Generate RB Seqeunces**"
   ]
  },
  {
   "cell_type": "code",
   "execution_count": 17,
   "id": "244e5924",
   "metadata": {},
   "outputs": [],
   "source": [
    "# Generate RB circuits (2Q RB)\n",
    "\n",
    "# number of qubits\n",
    "nQ = 2 \n",
    "rb_opts = {}\n",
    "#Number of Cliffords in the sequence\n",
    "rb_opts['length_vector'] = [1, 10, 20, 50, 75, 100, 125, 150, 175, 200]\n",
    "# Number of seeds (random sequences)\n",
    "rb_opts['nseeds'] = 5\n",
    "# Default pattern\n",
    "rb_opts['rb_pattern'] = [[0, 1]]\n",
    "\n",
    "rb_circs, xdata = rb.randomized_benchmarking_seq(**rb_opts)"
   ]
  },
  {
   "cell_type": "code",
   "execution_count": 18,
   "id": "59a2cb41",
   "metadata": {},
   "outputs": [
    {
     "data": {
      "text/html": [
       "<pre style=\"word-wrap: normal;white-space: pre;background: #fff0;line-height: 1.1;font-family: &quot;Courier New&quot;,Courier,monospace\">      ┌───┐               ┌─────┐┌───┐     ┌───┐┌───┐      ░      ┌─────┐┌───┐»\n",
       "qr_0: ┤ Z ├────────────■──┤ Sdg ├┤ H ├──■──┤ H ├┤ S ├──■───░───■──┤ Sdg ├┤ H ├»\n",
       "      ├───┤┌───┐┌───┐┌─┴─┐├─────┤├───┤┌─┴─┐├───┤├───┤┌─┴─┐ ░ ┌─┴─┐├─────┤├───┤»\n",
       "qr_1: ┤ X ├┤ H ├┤ S ├┤ X ├┤ Sdg ├┤ H ├┤ X ├┤ H ├┤ S ├┤ X ├─░─┤ X ├┤ Sdg ├┤ H ├»\n",
       "      └───┘└───┘└───┘└───┘└─────┘└───┘└───┘└───┘└───┘└───┘ ░ └───┘└─────┘└───┘»\n",
       "cr: 2/════════════════════════════════════════════════════════════════════════»\n",
       "                                                                              »\n",
       "«           ┌───┐┌───┐      ┌───┐      ┌─┐        \n",
       "«qr_0: ──■──┤ H ├┤ S ├──■───┤ Z ├──────┤M├────────\n",
       "«      ┌─┴─┐├───┤├───┤┌─┴─┐┌┴───┴┐┌───┐└╥┘┌───┐┌─┐\n",
       "«qr_1: ┤ X ├┤ H ├┤ S ├┤ X ├┤ Sdg ├┤ H ├─╫─┤ X ├┤M├\n",
       "«      └───┘└───┘└───┘└───┘└─────┘└───┘ ║ └───┘└╥┘\n",
       "«cr: 2/═════════════════════════════════╩═══════╩═\n",
       "«                                       0       1 </pre>"
      ],
      "text/plain": [
       "      ┌───┐               ┌─────┐┌───┐     ┌───┐┌───┐      ░      ┌─────┐┌───┐»\n",
       "qr_0: ┤ Z ├────────────■──┤ Sdg ├┤ H ├──■──┤ H ├┤ S ├──■───░───■──┤ Sdg ├┤ H ├»\n",
       "      ├───┤┌───┐┌───┐┌─┴─┐├─────┤├───┤┌─┴─┐├───┤├───┤┌─┴─┐ ░ ┌─┴─┐├─────┤├───┤»\n",
       "qr_1: ┤ X ├┤ H ├┤ S ├┤ X ├┤ Sdg ├┤ H ├┤ X ├┤ H ├┤ S ├┤ X ├─░─┤ X ├┤ Sdg ├┤ H ├»\n",
       "      └───┘└───┘└───┘└───┘└─────┘└───┘└───┘└───┘└───┘└───┘ ░ └───┘└─────┘└───┘»\n",
       "cr: 2/════════════════════════════════════════════════════════════════════════»\n",
       "                                                                              »\n",
       "«           ┌───┐┌───┐      ┌───┐      ┌─┐        \n",
       "«qr_0: ──■──┤ H ├┤ S ├──■───┤ Z ├──────┤M├────────\n",
       "«      ┌─┴─┐├───┤├───┤┌─┴─┐┌┴───┴┐┌───┐└╥┘┌───┐┌─┐\n",
       "«qr_1: ┤ X ├┤ H ├┤ S ├┤ X ├┤ Sdg ├┤ H ├─╫─┤ X ├┤M├\n",
       "«      └───┘└───┘└───┘└───┘└─────┘└───┘ ║ └───┘└╥┘\n",
       "«cr: 2/═════════════════════════════════╩═══════╩═\n",
       "«                                       0       1 "
      ]
     },
     "execution_count": 18,
     "metadata": {},
     "output_type": "execute_result"
    }
   ],
   "source": [
    "rb_circs[0][0].draw()"
   ]
  },
  {
   "cell_type": "markdown",
   "id": "28571ddf",
   "metadata": {},
   "source": [
    "One can verify that the Unitary representing each RB circuit should be the identity (with a global phase). We simulate this using Aer simulator."
   ]
  },
  {
   "cell_type": "code",
   "execution_count": 19,
   "id": "4c2b66de",
   "metadata": {},
   "outputs": [],
   "source": [
    "# Create a new circuit without the measurement\n",
    "qregs = rb_circs[0][-1].qregs\n",
    "cregs = rb_circs[0][-1].cregs\n",
    "qc = qiskit.QuantumCircuit(*qregs, *cregs)\n",
    "for i in rb_circs[0][-1][0:-nQ]:\n",
    "    qc.data.append(i)"
   ]
  },
  {
   "cell_type": "code",
   "execution_count": 20,
   "id": "51932397",
   "metadata": {
    "scrolled": true
   },
   "outputs": [
    {
     "data": {
      "text/latex": [
       "$$\n",
       "\\text{Unitary} = \n",
       "\\begin{bmatrix}\n",
       "\\tfrac{1}{\\sqrt{2}}(1 + i) & 0 & 0 & 0  \\\\\n",
       " 0 & \\tfrac{1}{\\sqrt{2}}(1 + i) & 0 & 0  \\\\\n",
       " 0 & 0 & \\tfrac{1}{\\sqrt{2}}(1 + i) & 0  \\\\\n",
       " 0 & 0 & 0 & \\tfrac{1}{\\sqrt{2}}(1 + i)  \\\\\n",
       " \\end{bmatrix}\n",
       "$$"
      ],
      "text/plain": [
       "<IPython.core.display.Latex object>"
      ]
     },
     "execution_count": 20,
     "metadata": {},
     "output_type": "execute_result"
    }
   ],
   "source": [
    "# The Unitary is an identity (with a global phase)\n",
    "sim = qiskit.Aer.get_backend('aer_simulator')\n",
    "basis_gates = ['u1','u2','u3','cx'] # use U,CX for now\n",
    "qc.save_unitary()\n",
    "unitary = sim.run(qc).result().get_unitary()\n",
    "from qiskit.visualization import array_to_latex\n",
    "array_to_latex(unitary, prefix=\"\\\\text{Unitary} = \")"
   ]
  },
  {
   "cell_type": "markdown",
   "id": "68bebe3f",
   "metadata": {},
   "source": [
    "**Step 2: Execute the RB sequences (with some noise)**"
   ]
  },
  {
   "cell_type": "code",
   "execution_count": 21,
   "id": "657b855f",
   "metadata": {},
   "outputs": [],
   "source": [
    "# Run on a noisy simulator\n",
    "noise_model = NoiseModel()\n",
    "\n",
    "# Depolarizing error on the gates u2, u3 and cx (assuming the u1 is virtual-Z gate and no error)\n",
    "p1Q = 0.002\n",
    "p2Q = 0.01\n",
    "\n",
    "noise_model.add_all_qubit_quantum_error(depolarizing_error(p1Q, 1), 'u2')\n",
    "noise_model.add_all_qubit_quantum_error(depolarizing_error(2 * p1Q, 1), 'u3')\n",
    "noise_model.add_all_qubit_quantum_error(depolarizing_error(p2Q, 2), 'cx')\n",
    "\n",
    "backend = qiskit.Aer.get_backend('aer_simulator')"
   ]
  },
  {
   "cell_type": "markdown",
   "id": "b8debc64",
   "metadata": {},
   "source": [
    "**Step 3, 4 and 5**"
   ]
  },
  {
   "cell_type": "markdown",
   "id": "887374c4",
   "metadata": {},
   "source": [
    "As an example, we calculate the average sequence fidelity for each of the RB sequences, fit the results to the exponential curve, and compute the parameters α and EPC."
   ]
  },
  {
   "cell_type": "code",
   "execution_count": 22,
   "id": "92fbb03e",
   "metadata": {},
   "outputs": [
    {
     "name": "stdout",
     "output_type": "stream",
     "text": [
      "Compiling seed 0\n",
      "Simulating seed 0\n",
      "After seed 0, alpha: 0.978314, EPC: 0.016265\n",
      "Compiling seed 1\n",
      "Simulating seed 1\n",
      "After seed 1, alpha: 0.980560, EPC: 0.014580\n",
      "Compiling seed 2\n",
      "Simulating seed 2\n",
      "After seed 2, alpha: 0.981276, EPC: 0.014043\n",
      "Compiling seed 3\n",
      "Simulating seed 3\n",
      "After seed 3, alpha: 0.979111, EPC: 0.015667\n",
      "Compiling seed 4\n",
      "Simulating seed 4\n",
      "After seed 4, alpha: 0.979078, EPC: 0.015692\n"
     ]
    }
   ],
   "source": [
    "# Create the RB fitter\n",
    "backend = qiskit.Aer.get_backend('aer_simulator')\n",
    "basis_gates = ['u1','u2','u3','cx'] \n",
    "shots = 200\n",
    "transpiled_circs_list = []\n",
    "rb_fit = rb.RBFitter(None, xdata, rb_opts['rb_pattern'])\n",
    "for rb_seed, rb_circ_seed in enumerate(rb_circs):\n",
    "    print(f'Compiling seed {rb_seed}')\n",
    "    new_rb_circ_seed = qiskit.compiler.transpile(rb_circ_seed, basis_gates=basis_gates)\n",
    "    transpiled_circs_list.append(new_rb_circ_seed)\n",
    "    print(f'Simulating seed {rb_seed}')\n",
    "    qobj = assemble(new_rb_circ_seed, shots=shots)\n",
    "    job = backend.run(qobj,\n",
    "                      noise_model=noise_model,\n",
    "                      max_parallel_experiments=0)\n",
    "    # Add data to the fitter\n",
    "    rb_fit.add_data(job.result())\n",
    "    print('After seed %d, alpha: %f, EPC: %f'%(rb_seed,rb_fit.fit[0]['params'][1], rb_fit.fit[0]['epc']))"
   ]
  },
  {
   "cell_type": "markdown",
   "id": "f0505b74",
   "metadata": {},
   "source": [
    "**Plot the results**"
   ]
  },
  {
   "cell_type": "code",
   "execution_count": 23,
   "id": "67cb423e",
   "metadata": {},
   "outputs": [
    {
     "data": {
      "image/png": "[encoded data removed]",
      "text/plain": [
       "<Figure size 576x432 with 1 Axes>"
      ]
     },
     "metadata": {
      "needs_background": "light"
     },
     "output_type": "display_data"
    }
   ],
   "source": [
    "plt.figure(figsize=(8, 6))\n",
    "ax = plt.subplot(1, 1, 1)\n",
    "\n",
    "# Plot the essence by calling plot_rb_data\n",
    "rb_fit.plot_rb_data(0, ax=ax, add_label=True, show_plt=False)\n",
    "    \n",
    "# Add title and label\n",
    "ax.set_title('%d Qubit RB'%(nQ), fontsize=18)\n",
    "\n",
    "plt.show()"
   ]
  },
  {
   "cell_type": "markdown",
   "id": "93eeafdb",
   "metadata": {},
   "source": [
    "# Predicting Gate Fidelity"
   ]
  },
  {
   "cell_type": "markdown",
   "id": "91df854a",
   "metadata": {},
   "source": [
    "If we know the errors on the underlying gates (the gateset) we can predict the EPC without running RB experiment. This calculation verifies that your RB experiment followed by fitting yields correct EPC value. First we need to count the number of these gates per Clifford.\n",
    "\n",
    "Then, the two qubit Clifford gate error function calculate_2q_epc gives the error per 2Q Clifford. It assumes that the error in the underlying gates is depolarizing."
   ]
  },
  {
   "cell_type": "code",
   "execution_count": 24,
   "id": "fc6d35bc",
   "metadata": {},
   "outputs": [
    {
     "name": "stdout",
     "output_type": "stream",
     "text": [
      "Number of u1 gates per Clifford: 0.120415\n",
      "Number of u2 gates per Clifford: 1.633188\n",
      "Number of u3 gates per Clifford: 0.184498\n",
      "Number of cx gates per Clifford: 1.501310\n"
     ]
    }
   ],
   "source": [
    "# count the number of single and 2Q gates in the 2Q Cliffords\n",
    "qubits = rb_opts['rb_pattern'][0]\n",
    "\n",
    "gate_per_cliff = rb.rb_utils.gates_per_clifford(\n",
    "    transpiled_circuits_list=transpiled_circs_list,\n",
    "    clifford_lengths=xdata[0],\n",
    "    basis=basis_gates,\n",
    "    qubits=qubits)\n",
    "\n",
    "for basis_gate in basis_gates:\n",
    "    print(\"Number of %s gates per Clifford: %f\"%(\n",
    "        basis_gate,\n",
    "        np.mean([gate_per_cliff[qubit][basis_gate] for qubit in qubits])))"
   ]
  },
  {
   "cell_type": "code",
   "execution_count": 25,
   "id": "43f6237f",
   "metadata": {},
   "outputs": [
    {
     "name": "stdout",
     "output_type": "stream",
     "text": [
      "Predicted 2Q Error per Clifford: 1.595387e-02 (aer simulator result: 1.569158e-02)\n"
     ]
    }
   ],
   "source": [
    "# convert from depolarizing error to epg (1Q)\n",
    "epg_q0 = {'u1': 0, 'u2': p1Q/2, 'u3': 2 * p1Q/2}\n",
    "epg_q1 = {'u1': 0, 'u2': p1Q/2, 'u3': 2 * p1Q/2}\n",
    "\n",
    "# convert from depolarizing error to epg (2Q)\n",
    "epg_q01 = 3/4 * p2Q\n",
    "\n",
    "# calculate the predicted epc from underlying gate errors \n",
    "pred_epc = rb.rb_utils.calculate_2q_epc(\n",
    "    gate_per_cliff=gate_per_cliff,\n",
    "    epg_2q=epg_q01,\n",
    "    qubit_pair=qubits,\n",
    "    list_epgs_1q=[epg_q0, epg_q1])\n",
    "\n",
    "print(\"Predicted 2Q Error per Clifford: %e (aer simulator result: %e)\" % (pred_epc, rb_fit.fit[0]['epc']))"
   ]
  },
  {
   "cell_type": "markdown",
   "id": "f9644d73",
   "metadata": {},
   "source": [
    "On the other hand, we can calculate the errors on the underlying gates (the gateset) from the experimentally obtained EPC. Given that we know the errors on the every single-qubit gates in the RB sequence, we can predict 2Q gate error from the EPC of two qubit RB experiment.\n",
    "\n",
    "The two qubit gate error function calculate_2q_epg gives the estimate of error per 2Q gate. In this section we prepare single-qubit errors using the deporalizing error model. If the error model is unknown, EPGs of those gates, for example [u1, u2, u3], can be estimated with a separate 1Q RB experiment with the utility function calculate_1q_epg"
   ]
  },
  {
   "cell_type": "code",
   "execution_count": 26,
   "id": "6b1f06e6",
   "metadata": {},
   "outputs": [
    {
     "name": "stdout",
     "output_type": "stream",
     "text": [
      "Predicted 2Q Error per gate: 7.305337e-03 (gate error model: 7.500000e-03)\n"
     ]
    }
   ],
   "source": [
    "# use 2Q EPC from aer simulator result and 1Q EPGs from depolarizing error model\n",
    "pred_epg = rb.rb_utils.calculate_2q_epg(\n",
    "    gate_per_cliff=gate_per_cliff,\n",
    "    epc_2q=rb_fit.fit[0]['epc'],\n",
    "    qubit_pair=qubits,\n",
    "    list_epgs_1q=[epg_q0, epg_q1])\n",
    "\n",
    "print(\"Predicted 2Q Error per gate: %e (gate error model: %e)\" % (pred_epg, epg_q01))"
   ]
  },
  {
   "cell_type": "code",
   "execution_count": null,
   "id": "d6331733",
   "metadata": {},
   "outputs": [],
   "source": []
  }
 ],
 "metadata": {
  "kernelspec": {
   "display_name": "Python 3",
   "language": "python",
   "name": "python3"
  },
  "language_info": {
   "codemirror_mode": {
    "name": "ipython",
    "version": 3
   },
   "file_extension": ".py",
   "mimetype": "text/x-python",
   "name": "python",
   "nbconvert_exporter": "python",
   "pygments_lexer": "ipython3",
   "version": "3.8.8"
  }
 },
 "nbformat": 4,
 "nbformat_minor": 5
}
