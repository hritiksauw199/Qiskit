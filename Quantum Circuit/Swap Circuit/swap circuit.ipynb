{
 "cells": [
  {
   "cell_type": "code",
   "execution_count": 1,
   "id": "15590964",
   "metadata": {},
   "outputs": [],
   "source": [
    "from qiskit import *\n",
    "from qiskit.visualization import *"
   ]
  },
  {
   "cell_type": "markdown",
   "id": "8c36fb55",
   "metadata": {},
   "source": [
    "# Swap 1 and 1"
   ]
  },
  {
   "cell_type": "code",
   "execution_count": 2,
   "id": "ff739310",
   "metadata": {},
   "outputs": [
    {
     "data": {
      "text/html": [
       "<pre style=\"word-wrap: normal;white-space: pre;background: #fff0;line-height: 1.1;font-family: &quot;Courier New&quot;,Courier,monospace\">     ┌───┐   \n",
       "q_0: ┤ X ├─X─\n",
       "     ├───┤ │ \n",
       "q_1: ┤ X ├─X─\n",
       "     └───┘   </pre>"
      ],
      "text/plain": [
       "     ┌───┐   \n",
       "q_0: ┤ X ├─X─\n",
       "     ├───┤ │ \n",
       "q_1: ┤ X ├─X─\n",
       "     └───┘   "
      ]
     },
     "execution_count": 2,
     "metadata": {},
     "output_type": "execute_result"
    }
   ],
   "source": [
    "# Using Swap operation\n",
    "\n",
    "qc = QuantumCircuit(2)\n",
    "qc.x(0)\n",
    "qc.x(1)\n",
    "qc.swap(0,1)\n",
    "qc.draw()"
   ]
  },
  {
   "cell_type": "code",
   "execution_count": 3,
   "id": "6674e480",
   "metadata": {},
   "outputs": [
    {
     "data": {
      "text/latex": [
       "$$\n",
       "\n",
       "\\begin{bmatrix}\n",
       "0 & 0 & 0 & 1  \\\\\n",
       " 0 & 1 & 0 & 0  \\\\\n",
       " 0 & 0 & 1 & 0  \\\\\n",
       " 1 & 0 & 0 & 0  \\\\\n",
       " \\end{bmatrix}\n",
       "$$"
      ],
      "text/plain": [
       "<IPython.core.display.Latex object>"
      ]
     },
     "execution_count": 3,
     "metadata": {},
     "output_type": "execute_result"
    }
   ],
   "source": [
    "sim = Aer.get_backend('unitary_simulator')\n",
    "job = execute(qc, sim).result()\n",
    "sv = job.get_unitary()\n",
    "array_to_latex(sv)"
   ]
  },
  {
   "cell_type": "code",
   "execution_count": 4,
   "id": "268fd4c1",
   "metadata": {},
   "outputs": [
    {
     "data": {
      "text/html": [
       "<pre style=\"word-wrap: normal;white-space: pre;background: #fff0;line-height: 1.1;font-family: &quot;Courier New&quot;,Courier,monospace\">     ┌───┐ ░      ┌───┐     \n",
       "q_0: ┤ X ├─░───■──┤ X ├──■──\n",
       "     ├───┤ ░ ┌─┴─┐└─┬─┘┌─┴─┐\n",
       "q_1: ┤ X ├─░─┤ X ├──■──┤ X ├\n",
       "     └───┘ ░ └───┘     └───┘</pre>"
      ],
      "text/plain": [
       "     ┌───┐ ░      ┌───┐     \n",
       "q_0: ┤ X ├─░───■──┤ X ├──■──\n",
       "     ├───┤ ░ ┌─┴─┐└─┬─┘┌─┴─┐\n",
       "q_1: ┤ X ├─░─┤ X ├──■──┤ X ├\n",
       "     └───┘ ░ └───┘     └───┘"
      ]
     },
     "execution_count": 4,
     "metadata": {},
     "output_type": "execute_result"
    }
   ],
   "source": [
    "# Using Cnot gates\n",
    "\n",
    "qc = QuantumCircuit(2)\n",
    "qc.x(0)\n",
    "qc.x(1)\n",
    "qc.barrier()\n",
    "qc.cx(0,1)\n",
    "qc.cx(1,0)\n",
    "qc.cx(0,1)\n",
    "qc.draw()"
   ]
  },
  {
   "cell_type": "code",
   "execution_count": 5,
   "id": "0b6ff7d0",
   "metadata": {},
   "outputs": [
    {
     "data": {
      "text/latex": [
       "$$\n",
       "\n",
       "\\begin{bmatrix}\n",
       "0 & 0 & 0 & 1  \\\\\n",
       " 0 & 1 & 0 & 0  \\\\\n",
       " 0 & 0 & 1 & 0  \\\\\n",
       " 1 & 0 & 0 & 0  \\\\\n",
       " \\end{bmatrix}\n",
       "$$"
      ],
      "text/plain": [
       "<IPython.core.display.Latex object>"
      ]
     },
     "execution_count": 5,
     "metadata": {},
     "output_type": "execute_result"
    }
   ],
   "source": [
    "sim = Aer.get_backend('unitary_simulator')\n",
    "job = execute(qc, sim).result()\n",
    "sv = job.get_unitary()\n",
    "array_to_latex(sv)"
   ]
  },
  {
   "cell_type": "markdown",
   "id": "5813013d",
   "metadata": {},
   "source": [
    "# Swap 0 and 0"
   ]
  },
  {
   "cell_type": "code",
   "execution_count": 6,
   "id": "83db61eb",
   "metadata": {},
   "outputs": [
    {
     "data": {
      "text/html": [
       "<pre style=\"word-wrap: normal;white-space: pre;background: #fff0;line-height: 1.1;font-family: &quot;Courier New&quot;,Courier,monospace\">        \n",
       "q_0: ─X─\n",
       "      │ \n",
       "q_1: ─X─\n",
       "        </pre>"
      ],
      "text/plain": [
       "        \n",
       "q_0: ─X─\n",
       "      │ \n",
       "q_1: ─X─\n",
       "        "
      ]
     },
     "execution_count": 6,
     "metadata": {},
     "output_type": "execute_result"
    }
   ],
   "source": [
    "# Using Swap operation\n",
    "\n",
    "qc = QuantumCircuit(2)\n",
    "qc.swap(0,1)\n",
    "qc.draw()"
   ]
  },
  {
   "cell_type": "code",
   "execution_count": 7,
   "id": "cde5adb4",
   "metadata": {},
   "outputs": [
    {
     "data": {
      "text/latex": [
       "$$\n",
       "\n",
       "\\begin{bmatrix}\n",
       "1 & 0 & 0 & 0  \\\\\n",
       " 0 & 0 & 1 & 0  \\\\\n",
       " 0 & 1 & 0 & 0  \\\\\n",
       " 0 & 0 & 0 & 1  \\\\\n",
       " \\end{bmatrix}\n",
       "$$"
      ],
      "text/plain": [
       "<IPython.core.display.Latex object>"
      ]
     },
     "execution_count": 7,
     "metadata": {},
     "output_type": "execute_result"
    }
   ],
   "source": [
    "sim = Aer.get_backend('unitary_simulator')\n",
    "job = execute(qc, sim).result()\n",
    "sv = job.get_unitary()\n",
    "array_to_latex(sv)"
   ]
  },
  {
   "cell_type": "code",
   "execution_count": 8,
   "id": "c68cad81",
   "metadata": {},
   "outputs": [
    {
     "data": {
      "text/html": [
       "<pre style=\"word-wrap: normal;white-space: pre;background: #fff0;line-height: 1.1;font-family: &quot;Courier New&quot;,Courier,monospace\">      ░      ┌───┐     \n",
       "q_0: ─░───■──┤ X ├──■──\n",
       "      ░ ┌─┴─┐└─┬─┘┌─┴─┐\n",
       "q_1: ─░─┤ X ├──■──┤ X ├\n",
       "      ░ └───┘     └───┘</pre>"
      ],
      "text/plain": [
       "      ░      ┌───┐     \n",
       "q_0: ─░───■──┤ X ├──■──\n",
       "      ░ ┌─┴─┐└─┬─┘┌─┴─┐\n",
       "q_1: ─░─┤ X ├──■──┤ X ├\n",
       "      ░ └───┘     └───┘"
      ]
     },
     "execution_count": 8,
     "metadata": {},
     "output_type": "execute_result"
    }
   ],
   "source": [
    "# Using Cnot gates\n",
    "\n",
    "qc = QuantumCircuit(2)\n",
    "qc.barrier()\n",
    "qc.cx(0,1)\n",
    "qc.cx(1,0)\n",
    "qc.cx(0,1)\n",
    "qc.draw()"
   ]
  },
  {
   "cell_type": "code",
   "execution_count": 9,
   "id": "db66f84e",
   "metadata": {},
   "outputs": [
    {
     "data": {
      "text/latex": [
       "$$\n",
       "\n",
       "\\begin{bmatrix}\n",
       "1 & 0 & 0 & 0  \\\\\n",
       " 0 & 0 & 1 & 0  \\\\\n",
       " 0 & 1 & 0 & 0  \\\\\n",
       " 0 & 0 & 0 & 1  \\\\\n",
       " \\end{bmatrix}\n",
       "$$"
      ],
      "text/plain": [
       "<IPython.core.display.Latex object>"
      ]
     },
     "execution_count": 9,
     "metadata": {},
     "output_type": "execute_result"
    }
   ],
   "source": [
    "sim = Aer.get_backend('unitary_simulator')\n",
    "job = execute(qc, sim).result()\n",
    "sv = job.get_unitary()\n",
    "array_to_latex(sv)"
   ]
  },
  {
   "cell_type": "markdown",
   "id": "a18750ed",
   "metadata": {},
   "source": [
    "# Swap 1 and 0"
   ]
  },
  {
   "cell_type": "code",
   "execution_count": 10,
   "id": "cc61cdb9",
   "metadata": {},
   "outputs": [
    {
     "data": {
      "text/html": [
       "<pre style=\"word-wrap: normal;white-space: pre;background: #fff0;line-height: 1.1;font-family: &quot;Courier New&quot;,Courier,monospace\">     ┌───┐   \n",
       "q_0: ┤ X ├─X─\n",
       "     └───┘ │ \n",
       "q_1: ──────X─\n",
       "             </pre>"
      ],
      "text/plain": [
       "     ┌───┐   \n",
       "q_0: ┤ X ├─X─\n",
       "     └───┘ │ \n",
       "q_1: ──────X─\n",
       "             "
      ]
     },
     "execution_count": 10,
     "metadata": {},
     "output_type": "execute_result"
    }
   ],
   "source": [
    "# Using Swap operation\n",
    "\n",
    "qc = QuantumCircuit(2)\n",
    "qc.x(0)\n",
    "qc.swap(0,1)\n",
    "qc.draw()"
   ]
  },
  {
   "cell_type": "code",
   "execution_count": 11,
   "id": "2644df01",
   "metadata": {},
   "outputs": [
    {
     "data": {
      "text/latex": [
       "$$\n",
       "\n",
       "\\begin{bmatrix}\n",
       "0 & 1 & 0 & 0  \\\\\n",
       " 0 & 0 & 0 & 1  \\\\\n",
       " 1 & 0 & 0 & 0  \\\\\n",
       " 0 & 0 & 1 & 0  \\\\\n",
       " \\end{bmatrix}\n",
       "$$"
      ],
      "text/plain": [
       "<IPython.core.display.Latex object>"
      ]
     },
     "execution_count": 11,
     "metadata": {},
     "output_type": "execute_result"
    }
   ],
   "source": [
    "sim = Aer.get_backend('unitary_simulator')\n",
    "job = execute(qc, sim).result()\n",
    "sv = job.get_unitary()\n",
    "array_to_latex(sv)"
   ]
  },
  {
   "cell_type": "code",
   "execution_count": 12,
   "id": "53a55168",
   "metadata": {},
   "outputs": [
    {
     "data": {
      "text/html": [
       "<pre style=\"word-wrap: normal;white-space: pre;background: #fff0;line-height: 1.1;font-family: &quot;Courier New&quot;,Courier,monospace\">     ┌───┐ ░      ┌───┐     \n",
       "q_0: ┤ X ├─░───■──┤ X ├──■──\n",
       "     └───┘ ░ ┌─┴─┐└─┬─┘┌─┴─┐\n",
       "q_1: ──────░─┤ X ├──■──┤ X ├\n",
       "           ░ └───┘     └───┘</pre>"
      ],
      "text/plain": [
       "     ┌───┐ ░      ┌───┐     \n",
       "q_0: ┤ X ├─░───■──┤ X ├──■──\n",
       "     └───┘ ░ ┌─┴─┐└─┬─┘┌─┴─┐\n",
       "q_1: ──────░─┤ X ├──■──┤ X ├\n",
       "           ░ └───┘     └───┘"
      ]
     },
     "execution_count": 12,
     "metadata": {},
     "output_type": "execute_result"
    }
   ],
   "source": [
    "# Using Cnot gates\n",
    "\n",
    "qc = QuantumCircuit(2)\n",
    "qc.x(0)\n",
    "qc.barrier()\n",
    "qc.cx(0,1)\n",
    "qc.cx(1,0)\n",
    "qc.cx(0,1)\n",
    "qc.draw()"
   ]
  },
  {
   "cell_type": "code",
   "execution_count": 13,
   "id": "5ba2daee",
   "metadata": {},
   "outputs": [
    {
     "data": {
      "text/latex": [
       "$$\n",
       "\n",
       "\\begin{bmatrix}\n",
       "0 & 1 & 0 & 0  \\\\\n",
       " 0 & 0 & 0 & 1  \\\\\n",
       " 1 & 0 & 0 & 0  \\\\\n",
       " 0 & 0 & 1 & 0  \\\\\n",
       " \\end{bmatrix}\n",
       "$$"
      ],
      "text/plain": [
       "<IPython.core.display.Latex object>"
      ]
     },
     "execution_count": 13,
     "metadata": {},
     "output_type": "execute_result"
    }
   ],
   "source": [
    "sim = Aer.get_backend('unitary_simulator')\n",
    "job = execute(qc, sim).result()\n",
    "sv = job.get_unitary()\n",
    "array_to_latex(sv)"
   ]
  },
  {
   "cell_type": "markdown",
   "id": "5f402b7e",
   "metadata": {},
   "source": [
    "# Swap 0 and 1"
   ]
  },
  {
   "cell_type": "code",
   "execution_count": 14,
   "id": "8429cbe7",
   "metadata": {},
   "outputs": [
    {
     "data": {
      "text/html": [
       "<pre style=\"word-wrap: normal;white-space: pre;background: #fff0;line-height: 1.1;font-family: &quot;Courier New&quot;,Courier,monospace\">             \n",
       "q_0: ──────X─\n",
       "     ┌───┐ │ \n",
       "q_1: ┤ X ├─X─\n",
       "     └───┘   </pre>"
      ],
      "text/plain": [
       "             \n",
       "q_0: ──────X─\n",
       "     ┌───┐ │ \n",
       "q_1: ┤ X ├─X─\n",
       "     └───┘   "
      ]
     },
     "execution_count": 14,
     "metadata": {},
     "output_type": "execute_result"
    }
   ],
   "source": [
    "# Using Swap operation\n",
    "\n",
    "qc = QuantumCircuit(2)\n",
    "qc.x(1)\n",
    "qc.swap(0,1)\n",
    "qc.draw()"
   ]
  },
  {
   "cell_type": "code",
   "execution_count": 15,
   "id": "89622879",
   "metadata": {},
   "outputs": [
    {
     "data": {
      "text/latex": [
       "$$\n",
       "\n",
       "\\begin{bmatrix}\n",
       "0 & 0 & 1 & 0  \\\\\n",
       " 1 & 0 & 0 & 0  \\\\\n",
       " 0 & 0 & 0 & 1  \\\\\n",
       " 0 & 1 & 0 & 0  \\\\\n",
       " \\end{bmatrix}\n",
       "$$"
      ],
      "text/plain": [
       "<IPython.core.display.Latex object>"
      ]
     },
     "execution_count": 15,
     "metadata": {},
     "output_type": "execute_result"
    }
   ],
   "source": [
    "sim = Aer.get_backend('unitary_simulator')\n",
    "job = execute(qc, sim).result()\n",
    "sv = job.get_unitary()\n",
    "array_to_latex(sv)"
   ]
  },
  {
   "cell_type": "code",
   "execution_count": 16,
   "id": "630e4ddf",
   "metadata": {},
   "outputs": [
    {
     "data": {
      "text/html": [
       "<pre style=\"word-wrap: normal;white-space: pre;background: #fff0;line-height: 1.1;font-family: &quot;Courier New&quot;,Courier,monospace\">           ░      ┌───┐     \n",
       "q_0: ──────░───■──┤ X ├──■──\n",
       "     ┌───┐ ░ ┌─┴─┐└─┬─┘┌─┴─┐\n",
       "q_1: ┤ X ├─░─┤ X ├──■──┤ X ├\n",
       "     └───┘ ░ └───┘     └───┘</pre>"
      ],
      "text/plain": [
       "           ░      ┌───┐     \n",
       "q_0: ──────░───■──┤ X ├──■──\n",
       "     ┌───┐ ░ ┌─┴─┐└─┬─┘┌─┴─┐\n",
       "q_1: ┤ X ├─░─┤ X ├──■──┤ X ├\n",
       "     └───┘ ░ └───┘     └───┘"
      ]
     },
     "execution_count": 16,
     "metadata": {},
     "output_type": "execute_result"
    }
   ],
   "source": [
    "# Using Cnot gates\n",
    "\n",
    "qc = QuantumCircuit(2)\n",
    "qc.x(1)\n",
    "qc.barrier()\n",
    "qc.cx(0,1)\n",
    "qc.cx(1,0)\n",
    "qc.cx(0,1)\n",
    "qc.draw()"
   ]
  },
  {
   "cell_type": "code",
   "execution_count": 17,
   "id": "168ead0b",
   "metadata": {},
   "outputs": [
    {
     "data": {
      "text/latex": [
       "$$\n",
       "\n",
       "\\begin{bmatrix}\n",
       "0 & 0 & 1 & 0  \\\\\n",
       " 1 & 0 & 0 & 0  \\\\\n",
       " 0 & 0 & 0 & 1  \\\\\n",
       " 0 & 1 & 0 & 0  \\\\\n",
       " \\end{bmatrix}\n",
       "$$"
      ],
      "text/plain": [
       "<IPython.core.display.Latex object>"
      ]
     },
     "execution_count": 17,
     "metadata": {},
     "output_type": "execute_result"
    }
   ],
   "source": [
    "sim = Aer.get_backend('unitary_simulator')\n",
    "job = execute(qc, sim).result()\n",
    "sv = job.get_unitary()\n",
    "array_to_latex(sv)"
   ]
  },
  {
   "cell_type": "markdown",
   "id": "8bc3ac08",
   "metadata": {},
   "source": [
    "# Swap with superposition"
   ]
  },
  {
   "cell_type": "code",
   "execution_count": 18,
   "id": "36dc8372",
   "metadata": {},
   "outputs": [
    {
     "data": {
      "text/html": [
       "<pre style=\"word-wrap: normal;white-space: pre;background: #fff0;line-height: 1.1;font-family: &quot;Courier New&quot;,Courier,monospace\">     ┌───┐        \n",
       "q_0: ┤ H ├──────X─\n",
       "     ├───┤┌───┐ │ \n",
       "q_1: ┤ X ├┤ H ├─X─\n",
       "     └───┘└───┘   </pre>"
      ],
      "text/plain": [
       "     ┌───┐        \n",
       "q_0: ┤ H ├──────X─\n",
       "     ├───┤┌───┐ │ \n",
       "q_1: ┤ X ├┤ H ├─X─\n",
       "     └───┘└───┘   "
      ]
     },
     "execution_count": 18,
     "metadata": {},
     "output_type": "execute_result"
    }
   ],
   "source": [
    "# Using Swap operation\n",
    "\n",
    "qc = QuantumCircuit(2)\n",
    "qc.h(0)\n",
    "qc.x(1)\n",
    "qc.h(1)\n",
    "qc.swap(0,1)\n",
    "qc.draw()"
   ]
  },
  {
   "cell_type": "code",
   "execution_count": 19,
   "id": "6de16900",
   "metadata": {},
   "outputs": [
    {
     "data": {
      "text/latex": [
       "$$\n",
       "\n",
       "\\begin{bmatrix}\n",
       "\\tfrac{1}{2} & \\tfrac{1}{2} & \\tfrac{1}{2} & \\tfrac{1}{2}  \\\\\n",
       " -\\tfrac{1}{2} & -\\tfrac{1}{2} & \\tfrac{1}{2} & \\tfrac{1}{2}  \\\\\n",
       " \\tfrac{1}{2} & -\\tfrac{1}{2} & \\tfrac{1}{2} & -\\tfrac{1}{2}  \\\\\n",
       " -\\tfrac{1}{2} & \\tfrac{1}{2} & \\tfrac{1}{2} & -\\tfrac{1}{2}  \\\\\n",
       " \\end{bmatrix}\n",
       "$$"
      ],
      "text/plain": [
       "<IPython.core.display.Latex object>"
      ]
     },
     "execution_count": 19,
     "metadata": {},
     "output_type": "execute_result"
    }
   ],
   "source": [
    "sim = Aer.get_backend('unitary_simulator')\n",
    "job = execute(qc, sim).result()\n",
    "sv = job.get_unitary()\n",
    "array_to_latex(sv)"
   ]
  },
  {
   "cell_type": "code",
   "execution_count": 20,
   "id": "fa1ca06a",
   "metadata": {},
   "outputs": [
    {
     "data": {
      "text/html": [
       "<pre style=\"word-wrap: normal;white-space: pre;background: #fff0;line-height: 1.1;font-family: &quot;Courier New&quot;,Courier,monospace\">     ┌───┐      ░      ┌───┐     \n",
       "q_0: ┤ H ├──────░───■──┤ X ├──■──\n",
       "     ├───┤┌───┐ ░ ┌─┴─┐└─┬─┘┌─┴─┐\n",
       "q_1: ┤ X ├┤ H ├─░─┤ X ├──■──┤ X ├\n",
       "     └───┘└───┘ ░ └───┘     └───┘</pre>"
      ],
      "text/plain": [
       "     ┌───┐      ░      ┌───┐     \n",
       "q_0: ┤ H ├──────░───■──┤ X ├──■──\n",
       "     ├───┤┌───┐ ░ ┌─┴─┐└─┬─┘┌─┴─┐\n",
       "q_1: ┤ X ├┤ H ├─░─┤ X ├──■──┤ X ├\n",
       "     └───┘└───┘ ░ └───┘     └───┘"
      ]
     },
     "execution_count": 20,
     "metadata": {},
     "output_type": "execute_result"
    }
   ],
   "source": [
    "# Using Cnot gates\n",
    "\n",
    "qc = QuantumCircuit(2)\n",
    "qc.h(0)\n",
    "qc.x(1)\n",
    "qc.h(1)\n",
    "qc.barrier()\n",
    "qc.cx(0,1)\n",
    "qc.cx(1,0)\n",
    "qc.cx(0,1)\n",
    "qc.draw()"
   ]
  },
  {
   "cell_type": "code",
   "execution_count": 21,
   "id": "817d2253",
   "metadata": {},
   "outputs": [
    {
     "data": {
      "text/latex": [
       "$$\n",
       "\n",
       "\\begin{bmatrix}\n",
       "\\tfrac{1}{2} & \\tfrac{1}{2} & \\tfrac{1}{2} & \\tfrac{1}{2}  \\\\\n",
       " -\\tfrac{1}{2} & -\\tfrac{1}{2} & \\tfrac{1}{2} & \\tfrac{1}{2}  \\\\\n",
       " \\tfrac{1}{2} & -\\tfrac{1}{2} & \\tfrac{1}{2} & -\\tfrac{1}{2}  \\\\\n",
       " -\\tfrac{1}{2} & \\tfrac{1}{2} & \\tfrac{1}{2} & -\\tfrac{1}{2}  \\\\\n",
       " \\end{bmatrix}\n",
       "$$"
      ],
      "text/plain": [
       "<IPython.core.display.Latex object>"
      ]
     },
     "execution_count": 21,
     "metadata": {},
     "output_type": "execute_result"
    }
   ],
   "source": [
    "sim = Aer.get_backend('unitary_simulator')\n",
    "job = execute(qc, sim).result()\n",
    "sv = job.get_unitary()\n",
    "array_to_latex(sv)"
   ]
  }
 ],
 "metadata": {
  "kernelspec": {
   "display_name": "Python 3",
   "language": "python",
   "name": "python3"
  },
  "language_info": {
   "codemirror_mode": {
    "name": "ipython",
    "version": 3
   },
   "file_extension": ".py",
   "mimetype": "text/x-python",
   "name": "python",
   "nbconvert_exporter": "python",
   "pygments_lexer": "ipython3",
   "version": "3.8.8"
  }
 },
 "nbformat": 4,
 "nbformat_minor": 5
}
