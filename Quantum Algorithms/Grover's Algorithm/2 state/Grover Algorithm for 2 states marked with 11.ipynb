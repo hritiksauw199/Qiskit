{
 "cells": [
  {
   "cell_type": "markdown",
   "id": "77272497",
   "metadata": {},
   "source": [
    "**We now implement Grover's algorithm for the above case of 2 qubits for |w⟩ = |11>**"
   ]
  },
  {
   "cell_type": "code",
   "execution_count": 1,
   "id": "0a10cd7d",
   "metadata": {},
   "outputs": [],
   "source": [
    "#initialization\n",
    "import matplotlib.pyplot as plt\n",
    "import numpy as np\n",
    "\n",
    "# importing Qiskit\n",
    "from qiskit import IBMQ, Aer, assemble, transpile\n",
    "from qiskit import QuantumCircuit, ClassicalRegister, QuantumRegister\n",
    "from qiskit.providers.ibmq import least_busy\n",
    "\n",
    "# import basic plot tools\n",
    "from qiskit.visualization import plot_histogram"
   ]
  },
  {
   "cell_type": "markdown",
   "id": "1a0efc95",
   "metadata": {},
   "source": [
    "We start by preparing a quantum circuit with two qubits:"
   ]
  },
  {
   "cell_type": "code",
   "execution_count": 2,
   "id": "082d17dc",
   "metadata": {},
   "outputs": [],
   "source": [
    "n = 2\n",
    "grover_circuit = QuantumCircuit(n)"
   ]
  },
  {
   "cell_type": "markdown",
   "id": "74e62253",
   "metadata": {},
   "source": [
    "First, we need to initialize the state |s⟩. Let's create a general function (for any number of qubits) so we can use it again later:"
   ]
  },
  {
   "cell_type": "code",
   "execution_count": 3,
   "id": "abcbceae",
   "metadata": {},
   "outputs": [],
   "source": [
    "def initialize_s(qc, qubits):\n",
    "    \"\"\"Apply a H-gate to 'qubits' in qc\"\"\"\n",
    "    for q in qubits:\n",
    "        qc.h(q)\n",
    "    return qc"
   ]
  },
  {
   "cell_type": "code",
   "execution_count": 4,
   "id": "a9bcc776",
   "metadata": {},
   "outputs": [
    {
     "data": {
      "text/html": [
       "<pre style=\"word-wrap: normal;white-space: pre;background: #fff0;line-height: 1.1;font-family: &quot;Courier New&quot;,Courier,monospace\">     ┌───┐\n",
       "q_0: ┤ H ├\n",
       "     ├───┤\n",
       "q_1: ┤ H ├\n",
       "     └───┘</pre>"
      ],
      "text/plain": [
       "     ┌───┐\n",
       "q_0: ┤ H ├\n",
       "     ├───┤\n",
       "q_1: ┤ H ├\n",
       "     └───┘"
      ]
     },
     "execution_count": 4,
     "metadata": {},
     "output_type": "execute_result"
    }
   ],
   "source": [
    "grover_circuit = initialize_s(grover_circuit, [0,1])\n",
    "grover_circuit.draw()"
   ]
  },
  {
   "cell_type": "markdown",
   "id": "e3995b6d",
   "metadata": {},
   "source": [
    "Apply the Oracle for |w> = |11>. This oracle is specific to 2 qubits:"
   ]
  },
  {
   "cell_type": "code",
   "execution_count": 5,
   "id": "84efd102",
   "metadata": {},
   "outputs": [
    {
     "data": {
      "text/html": [
       "<pre style=\"word-wrap: normal;white-space: pre;background: #fff0;line-height: 1.1;font-family: &quot;Courier New&quot;,Courier,monospace\">     ┌───┐ ░     ░ \n",
       "q_0: ┤ H ├─░──■──░─\n",
       "     ├───┤ ░  │  ░ \n",
       "q_1: ┤ H ├─░──■──░─\n",
       "     └───┘ ░     ░ </pre>"
      ],
      "text/plain": [
       "     ┌───┐ ░     ░ \n",
       "q_0: ┤ H ├─░──■──░─\n",
       "     ├───┤ ░  │  ░ \n",
       "q_1: ┤ H ├─░──■──░─\n",
       "     └───┘ ░     ░ "
      ]
     },
     "execution_count": 5,
     "metadata": {},
     "output_type": "execute_result"
    }
   ],
   "source": [
    "grover_circuit.barrier()\n",
    "grover_circuit.cz(0,1) # Oracle\n",
    "grover_circuit.barrier()\n",
    "grover_circuit.draw()"
   ]
  },
  {
   "cell_type": "markdown",
   "id": "d729f23f",
   "metadata": {},
   "source": [
    "We now want to apply the diffuser (Us). As with the circuit that initializes |s⟩, we'll create a general diffuser (for any number of qubits) so we can use it later in other problems."
   ]
  },
  {
   "cell_type": "code",
   "execution_count": 6,
   "id": "b64a3e4f",
   "metadata": {},
   "outputs": [
    {
     "data": {
      "text/html": [
       "<pre style=\"word-wrap: normal;white-space: pre;background: #fff0;line-height: 1.1;font-family: &quot;Courier New&quot;,Courier,monospace\">     ┌───┐ ░     ░ ┌───┐┌───┐   ┌───┐ ░ \n",
       "q_0: ┤ H ├─░──■──░─┤ H ├┤ Z ├─■─┤ H ├─░─\n",
       "     ├───┤ ░  │  ░ ├───┤├───┤ │ ├───┤ ░ \n",
       "q_1: ┤ H ├─░──■──░─┤ H ├┤ Z ├─■─┤ H ├─░─\n",
       "     └───┘ ░     ░ └───┘└───┘   └───┘ ░ </pre>"
      ],
      "text/plain": [
       "     ┌───┐ ░     ░ ┌───┐┌───┐   ┌───┐ ░ \n",
       "q_0: ┤ H ├─░──■──░─┤ H ├┤ Z ├─■─┤ H ├─░─\n",
       "     ├───┤ ░  │  ░ ├───┤├───┤ │ ├───┤ ░ \n",
       "q_1: ┤ H ├─░──■──░─┤ H ├┤ Z ├─■─┤ H ├─░─\n",
       "     └───┘ ░     ░ └───┘└───┘   └───┘ ░ "
      ]
     },
     "execution_count": 6,
     "metadata": {},
     "output_type": "execute_result"
    }
   ],
   "source": [
    "# Diffusion operator (U_s)\n",
    "grover_circuit.h([0,1])\n",
    "grover_circuit.z([0,1])\n",
    "grover_circuit.cz(0,1)\n",
    "grover_circuit.h([0,1])\n",
    "grover_circuit.barrier()\n",
    "grover_circuit.draw()"
   ]
  },
  {
   "cell_type": "markdown",
   "id": "e0357349",
   "metadata": {},
   "source": [
    "**Result(Simulator)**"
   ]
  },
  {
   "cell_type": "code",
   "execution_count": 7,
   "id": "adbdd8be",
   "metadata": {},
   "outputs": [
    {
     "data": {
      "text/latex": [
       "$\\displaystyle \n",
       "$$ |\\psi\\rangle =\\begin{bmatrix}\n",
       "0 \\\\\n",
       "0 \\\\\n",
       "0 \\\\\n",
       "1\\end{bmatrix} $"
      ],
      "text/plain": [
       "<IPython.core.display.Math object>"
      ]
     },
     "metadata": {},
     "output_type": "display_data"
    }
   ],
   "source": [
    "sim = Aer.get_backend('aer_simulator')\n",
    "# we need to make a copy of the circuit with the 'save_statevector'\n",
    "# instruction to run on the Aer simulator\n",
    "grover_circuit_sim = grover_circuit.copy()\n",
    "grover_circuit_sim.save_statevector()\n",
    "qobj = assemble(grover_circuit_sim)\n",
    "result = sim.run(qobj).result()\n",
    "statevec = result.get_statevector()\n",
    "from qiskit_textbook.tools import vector2latex\n",
    "vector2latex(statevec, pretext=\"|\\\\psi\\\\rangle =\")"
   ]
  },
  {
   "cell_type": "markdown",
   "id": "ceff91a1",
   "metadata": {},
   "source": [
    "As expected the amplitude of every state that is not |11> is 0, this means we have a 100% chance of measuring |11>."
   ]
  },
  {
   "cell_type": "code",
   "execution_count": 8,
   "id": "70a4ef4e",
   "metadata": {},
   "outputs": [
    {
     "data": {
      "image/png": "[encoded data removed]",
      "text/plain": [
       "<Figure size 504x360 with 1 Axes>"
      ]
     },
     "execution_count": 8,
     "metadata": {},
     "output_type": "execute_result"
    }
   ],
   "source": [
    "grover_circuit.measure_all()\n",
    "\n",
    "aer_sim = Aer.get_backend('aer_simulator')\n",
    "qobj = assemble(grover_circuit)\n",
    "result = aer_sim.run(qobj).result()\n",
    "counts = result.get_counts()\n",
    "plot_histogram(counts)"
   ]
  },
  {
   "cell_type": "markdown",
   "id": "5d58d088",
   "metadata": {},
   "source": [
    "**Result(Real Device)**"
   ]
  },
  {
   "cell_type": "code",
   "execution_count": 9,
   "id": "734d70ff",
   "metadata": {},
   "outputs": [
    {
     "name": "stdout",
     "output_type": "stream",
     "text": [
      "Running on current least busy device:  ibmq_belem\n"
     ]
    }
   ],
   "source": [
    "# Load IBM Q account and get the least busy backend device\n",
    "provider = IBMQ.load_account()\n",
    "provider = IBMQ.get_provider(\"ibm-q\")\n",
    "device = least_busy(provider.backends(filters=lambda x: x.configuration().n_qubits >= 3 and \n",
    "                                   not x.configuration().simulator and x.status().operational==True))\n",
    "print(\"Running on current least busy device: \", device)"
   ]
  },
  {
   "cell_type": "code",
   "execution_count": 10,
   "id": "1d4d3297",
   "metadata": {},
   "outputs": [
    {
     "name": "stdout",
     "output_type": "stream",
     "text": [
      "Job Status: job has successfully run\n"
     ]
    }
   ],
   "source": [
    "# Run our circuit on the least busy backend. Monitor the execution of the job in the queue\n",
    "from qiskit.tools.monitor import job_monitor\n",
    "transpiled_grover_circuit = transpile(grover_circuit, device, optimization_level=3)\n",
    "job = device.run(transpiled_grover_circuit)\n",
    "job_monitor(job, interval=2)"
   ]
  },
  {
   "cell_type": "code",
   "execution_count": 11,
   "id": "7364d43b",
   "metadata": {},
   "outputs": [
    {
     "data": {
      "image/png": "[encoded data removed]",
      "text/plain": [
       "<Figure size 504x360 with 1 Axes>"
      ]
     },
     "execution_count": 11,
     "metadata": {},
     "output_type": "execute_result"
    }
   ],
   "source": [
    "# Get the results from the computation\n",
    "results = job.result()\n",
    "answer = results.get_counts(grover_circuit)\n",
    "plot_histogram(answer)"
   ]
  },
  {
   "cell_type": "code",
   "execution_count": null,
   "id": "0d9df98c",
   "metadata": {},
   "outputs": [],
   "source": []
  }
 ],
 "metadata": {
  "kernelspec": {
   "display_name": "Python 3",
   "language": "python",
   "name": "python3"
  },
  "language_info": {
   "codemirror_mode": {
    "name": "ipython",
    "version": 3
   },
   "file_extension": ".py",
   "mimetype": "text/x-python",
   "name": "python",
   "nbconvert_exporter": "python",
   "pygments_lexer": "ipython3",
   "version": "3.8.8"
  }
 },
 "nbformat": 4,
 "nbformat_minor": 5
}
